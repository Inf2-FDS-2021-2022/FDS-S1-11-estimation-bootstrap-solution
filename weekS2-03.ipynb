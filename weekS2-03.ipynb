{
 "cells": [
  {
   "cell_type": "markdown",
   "metadata": {},
   "source": [
    "# FDS Lab S2-03: Estimation, including confidence intervals...\n",
    "\n",
    "Welcome to second lab in Semester 2.\n",
    "\n",
    "**Learning outcomes:** In this lab you will use statistical simulations to undertake bootstrap estimation of confidence intervals. Along the way we will start to think about basic software engineering aspects of data science programming. By the end of this lab you should be able to:\n",
    "- code the bootstrap estimator for a number of estimators\n",
    "- validate statistical coding by comparing the output of functions with known results\n",
    "- interpret the output\n",
    "- compare the output with confidence intervals obtained by other methods\n",
    "We will go over simulations and randomness, from the topic on \"Estimation\".\n",
    "\n",
    "Let us start, as usual, by importing the necessary libraries set up the imports by running the cell below."
   ]
  },
  {
   "cell_type": "code",
   "execution_count": 1,
   "metadata": {},
   "outputs": [],
   "source": [
    "import numpy as np\n",
    "import pandas as pd\n",
    "import matplotlib\n",
    "%matplotlib inline\n",
    "import matplotlib.pyplot as plt\n"
   ]
  },
  {
   "cell_type": "markdown",
   "metadata": {},
   "source": [
    "# 1. Bootstrap - confidence intervals in baseball data\n",
    "\n",
    "We'll finish off what we started in the previous lab. We'd like to generate confidence intervals for various statistics in the baseball dataset. First we'll load the data"
   ]
  },
  {
   "cell_type": "code",
   "execution_count": 2,
   "metadata": {},
   "outputs": [],
   "source": [
    "player_data = pd.read_csv(\"datasets/player_data.csv\")\n",
    "salary_data = pd.read_csv(\"datasets/salary_data.csv\")\n",
    "full_data = pd.merge(salary_data, player_data,\n",
    "                     left_on=\"PlayerName\", right_on=\"Name\")\n",
    "full_data['Salary']=full_data['Salary']/1000000"
   ]
  },
  {
   "cell_type": "code",
   "execution_count": 3,
   "metadata": {},
   "outputs": [
    {
     "data": {
      "text/html": [
       "<div>\n",
       "<style scoped>\n",
       "    .dataframe tbody tr th:only-of-type {\n",
       "        vertical-align: middle;\n",
       "    }\n",
       "\n",
       "    .dataframe tbody tr th {\n",
       "        vertical-align: top;\n",
       "    }\n",
       "\n",
       "    .dataframe thead th {\n",
       "        text-align: right;\n",
       "    }\n",
       "</style>\n",
       "<table border=\"1\" class=\"dataframe\">\n",
       "  <thead>\n",
       "    <tr style=\"text-align: right;\">\n",
       "      <th></th>\n",
       "      <th>PlayerName</th>\n",
       "      <th>Salary</th>\n",
       "    </tr>\n",
       "  </thead>\n",
       "  <tbody>\n",
       "    <tr>\n",
       "      <th>0</th>\n",
       "      <td>Kobe Bryant</td>\n",
       "      <td>23500000</td>\n",
       "    </tr>\n",
       "    <tr>\n",
       "      <th>1</th>\n",
       "      <td>Amar'e Stoudemire</td>\n",
       "      <td>23410988</td>\n",
       "    </tr>\n",
       "    <tr>\n",
       "      <th>2</th>\n",
       "      <td>Joe Johnson</td>\n",
       "      <td>23180790</td>\n",
       "    </tr>\n",
       "    <tr>\n",
       "      <th>3</th>\n",
       "      <td>Carmelo Anthony</td>\n",
       "      <td>22458401</td>\n",
       "    </tr>\n",
       "    <tr>\n",
       "      <th>4</th>\n",
       "      <td>Dwight Howard</td>\n",
       "      <td>21436271</td>\n",
       "    </tr>\n",
       "  </tbody>\n",
       "</table>\n",
       "</div>"
      ],
      "text/plain": [
       "          PlayerName    Salary\n",
       "0        Kobe Bryant  23500000\n",
       "1  Amar'e Stoudemire  23410988\n",
       "2        Joe Johnson  23180790\n",
       "3    Carmelo Anthony  22458401\n",
       "4      Dwight Howard  21436271"
      ]
     },
     "execution_count": 3,
     "metadata": {},
     "output_type": "execute_result"
    }
   ],
   "source": [
    "salary_data.head()"
   ]
  },
  {
   "cell_type": "markdown",
   "metadata": {},
   "source": [
    "**Exercise 01:** Using the code from last week, and the information in the lecture notes, write the a bootstrap estimation routine with $k=1000$ replications to:\n",
    "1. plot the sampling distribution of the mean.\n",
    "2. find a 95% confidence interval for the mean of the salary data."
   ]
  },
  {
   "cell_type": "code",
   "execution_count": 4,
   "metadata": {},
   "outputs": [
    {
     "data": {
      "text/plain": [
       "(array([   4.,    7.,   49.,  136.,  299.,  548.,  884., 1270., 1500.,\n",
       "        1516., 1376., 1005.,  705.,  362.,  188.,  102.,   28.,   14.,\n",
       "           3.,    4.]),\n",
       " array([3.49790312, 3.58124227, 3.66458141, 3.74792056, 3.8312597 ,\n",
       "        3.91459884, 3.99793799, 4.08127713, 4.16461627, 4.24795542,\n",
       "        4.33129456, 4.4146337 , 4.49797285, 4.58131199, 4.66465114,\n",
       "        4.74799028, 4.83132942, 4.91466857, 4.99800771, 5.08134685,\n",
       "        5.164686  ]),\n",
       " <BarContainer object of 20 artists>)"
      ]
     },
     "execution_count": 4,
     "metadata": {},
     "output_type": "execute_result"
    },
    {
     "data": {
      "image/png": "[encoded data removed]",
      "text/plain": [
       "<Figure size 432x288 with 1 Axes>"
      ]
     },
     "metadata": {
      "needs_background": "light"
     },
     "output_type": "display_data"
    }
   ],
   "source": [
    "salaries = full_data['Salary']\n",
    "k = 10000\n",
    "n = len(salary_data)\n",
    "\n",
    "x_star_tilde = np.zeros(k)\n",
    "for i in range(k):\n",
    "    x_star = salaries.sample(n, replace=True)\n",
    "    x_star_tilde[i] = x_star.mean()\n",
    "    \n",
    "    \n",
    "plt.hist(x_star_tilde, 20)\n"
   ]
  },
  {
   "cell_type": "code",
   "execution_count": 5,
   "metadata": {},
   "outputs": [
    {
     "name": "stdout",
     "output_type": "stream",
     "text": [
      "Confidence interval\n",
      "0.025    3.853260\n",
      "0.975    4.697401\n",
      "dtype: float64\n"
     ]
    }
   ],
   "source": [
    "print(\"Confidence interval\")\n",
    "print(pd.Series(x_star_tilde).quantile([0.025, 0.975]))\n",
    "    "
   ]
  },
  {
   "cell_type": "markdown",
   "metadata": {},
   "source": [
    "## Engineering a bootstrap function"
   ]
  },
  {
   "cell_type": "markdown",
   "metadata": {},
   "source": [
    "**Exercise 02:** When you find you're using the same piece of code repeatedly, it's good to turn it into a function. Write a function called bootstrap(), which takes as its input arguments\n",
    "1. `x`: pd.Series()\n",
    "3. `estimator`: The function (e.g. `np.mean`) that you would like to get the bootstrap confidence intervals for. Note that you can pass functions as arguments to python functions.\n",
    "4. `quantiles`: An array containing the desired quantiles\n",
    "5. `plot`: Boolean indicating if a plot of the bootstrap distribution of the estimator should be shown. `False` by default.\n",
    " \n",
    "It should return:\n",
    "1. the quantiles\n",
    "2. the bootstrap standard deviation"
   ]
  },
  {
   "cell_type": "code",
   "execution_count": 6,
   "metadata": {},
   "outputs": [
    {
     "name": "stdout",
     "output_type": "stream",
     "text": [
      "0.20759079442202139\n"
     ]
    },
    {
     "data": {
      "image/png": "[encoded data removed]",
      "text/plain": [
       "<Figure size 432x288 with 1 Axes>"
      ]
     },
     "metadata": {
      "needs_background": "light"
     },
     "output_type": "display_data"
    }
   ],
   "source": [
    "def bootstrap(x, k=1000, estimator=np.mean, quantiles=[0.025, 0.975], plot=False):\n",
    "    n = len(x)\n",
    "    x_star_est = np.zeros(k)\n",
    "    for i in range(k):\n",
    "        x_star = np.random.choice(x, n, replace=True)\n",
    "        x_star_est[i] = estimator(x_star)\n",
    "        \n",
    "    if (plot):\n",
    "        plt.hist(x_star_est, 20)\n",
    "    return(np.quantile(x_star_est, quantiles), np.std(x_star_est))\n",
    "\n",
    "quantiles, std = bootstrap(salaries, plot=True)\n",
    "print(std)"
   ]
  },
  {
   "cell_type": "markdown",
   "metadata": {},
   "source": [
    "## Testing the function"
   ]
  },
  {
   "cell_type": "markdown",
   "metadata": {},
   "source": [
    "It's good to test that your code works as you expect it to on something that you know the answer for. In this, artificial, case we know the distribution, so we can estimate the SEM as $\\sigma_{\\overline{X} = \\sigma/\\sqrt{n}$. \n",
    "\n",
    "**Exercise 03:** \n",
    "- Compare the SEM computed from the full distribution with the bootstrap estimates.\n",
    "- Are they of a similar size? If so, good - if not, go back and check the bootstrap function.\n",
    "- Compare the quantiles produced by the function with the distribution produced with `plot=True`. Do the quantiles lie in the distribution?"
   ]
  },
  {
   "cell_type": "code",
   "execution_count": 7,
   "metadata": {},
   "outputs": [
    {
     "data": {
      "text/plain": [
       "0.2149839356734121"
      ]
     },
     "execution_count": 7,
     "metadata": {},
     "output_type": "execute_result"
    }
   ],
   "source": [
    "SEM = np.std(salaries)/np.sqrt(len(salaries))\n",
    "SEM"
   ]
  },
  {
   "cell_type": "code",
   "execution_count": 8,
   "metadata": {},
   "outputs": [
    {
     "name": "stdout",
     "output_type": "stream",
     "text": [
      "0.2069091352083499 [3.88224812 4.69128623]\n"
     ]
    },
    {
     "data": {
      "image/png": "[encoded data removed]",
      "text/plain": [
       "<Figure size 432x288 with 1 Axes>"
      ]
     },
     "metadata": {
      "needs_background": "light"
     },
     "output_type": "display_data"
    }
   ],
   "source": [
    "quantiles, std = bootstrap(salaries, plot=True)\n",
    "print(std, quantiles)"
   ]
  },
  {
   "cell_type": "markdown",
   "metadata": {},
   "source": [
    "Your answer:\n",
    "    \n",
    "The SEM of the distribution and the estimated SEM computed from the bootstrap estimator are similar. The quantiles look about right too, compared to the distribution."
   ]
  },
  {
   "cell_type": "markdown",
   "metadata": {},
   "source": [
    "## Apply the bootstrap function to the median"
   ]
  },
  {
   "cell_type": "markdown",
   "metadata": {},
   "source": [
    "**Exercise 05:** Apply your new bootstrap function to the confidence intervals of the median of the salaries, plotting the distribution."
   ]
  },
  {
   "cell_type": "code",
   "execution_count": 9,
   "metadata": {},
   "outputs": [
    {
     "data": {
      "text/plain": [
       "(array([2.023261, 2.873764]), 0.23683754541367702)"
      ]
     },
     "execution_count": 9,
     "metadata": {},
     "output_type": "execute_result"
    },
    {
     "data": {
      "image/png": "[encoded data removed]",
      "text/plain": [
       "<Figure size 432x288 with 1 Axes>"
      ]
     },
     "metadata": {
      "needs_background": "light"
     },
     "output_type": "display_data"
    }
   ],
   "source": [
    "bootstrap(salaries, 1000, estimator=np.median, plot=True)"
   ]
  },
  {
   "cell_type": "markdown",
   "metadata": {},
   "source": [
    "**Discussion:** Does the distribution of the sample median look as you would expect it to? If not, what is unusual about it? Can you explain why you're seeing this?"
   ]
  },
  {
   "cell_type": "markdown",
   "metadata": {},
   "source": [
    "Your answer:\n",
    "    \n",
    "The bootstrap distribution does not look as I expected it to. It looks bumpy. This is probably because there are some very common exact amounts of salaries, meaning the median gets stuck there."
   ]
  },
  {
   "cell_type": "code",
   "execution_count": 10,
   "metadata": {},
   "outputs": [
    {
     "data": {
      "text/plain": [
       "array([4.41864001, 4.42148894, 4.30193278, ..., 4.27151982, 4.35040516,\n",
       "       3.83874384])"
      ]
     },
     "execution_count": 10,
     "metadata": {},
     "output_type": "execute_result"
    }
   ],
   "source": [
    "x_star_tilde"
   ]
  },
  {
   "cell_type": "markdown",
   "metadata": {},
   "source": [
    "# 2. Bootstrap applied to linear regression -  output from other packages"
   ]
  },
  {
   "cell_type": "markdown",
   "metadata": {},
   "source": [
    "As we've said in the lectures, we can apply the bootstrap estimator to many different types of statistic, where by \"statistic\" we mean a value derived from the data. Linear regression coefficients also count as statistics - so we should be able to used the bootstrap on them.\n",
    " \n",
    " **Exercise 06:** \n",
    " - Create a new column of `full_data` called `LogSalary`, which is the log to the base 10 of `Salary`.\n",
    " - Plot the `LogSalary` against the `Age`.\n",
    " - Fit a linear regression of the `LogSalary` to the `Age` using `statsmodels`. (See the linear regression lab).\n",
    " - Extract the best fitting Intercept and Age parameters from the result"
   ]
  },
  {
   "cell_type": "code",
   "execution_count": 11,
   "metadata": {},
   "outputs": [],
   "source": [
    "import seaborn as sns\n",
    "import statsmodels.formula.api as smf\n",
    "# sns.pairplot(full_data)"
   ]
  },
  {
   "cell_type": "code",
   "execution_count": 12,
   "metadata": {},
   "outputs": [],
   "source": [
    "full_data['LogSalary'] = np.log10(full_data['Salary'])"
   ]
  },
  {
   "cell_type": "code",
   "execution_count": 13,
   "metadata": {},
   "outputs": [
    {
     "data": {
      "text/plain": [
       "<seaborn.axisgrid.PairGrid at 0x7f2da5e8c3a0>"
      ]
     },
     "execution_count": 13,
     "metadata": {},
     "output_type": "execute_result"
    },
    {
     "data": {
      "image/png": "[encoded data removed]",
      "text/plain": [
       "<Figure size 360x360 with 6 Axes>"
      ]
     },
     "metadata": {
      "needs_background": "light"
     },
     "output_type": "display_data"
    }
   ],
   "source": [
    "sns.pairplot(full_data, vars=['Age', 'LogSalary'])"
   ]
  },
  {
   "cell_type": "code",
   "execution_count": 14,
   "metadata": {},
   "outputs": [
    {
     "data": {
      "text/plain": [
       "Intercept   -0.797333\n",
       "Age          0.042749\n",
       "dtype: float64"
      ]
     },
     "execution_count": 14,
     "metadata": {},
     "output_type": "execute_result"
    }
   ],
   "source": [
    "## Maybe we should give this?\n",
    "model = smf.ols('LogSalary ~ Age', data=full_data)\n",
    "results = model.fit()\n",
    "results.params"
   ]
  },
  {
   "cell_type": "markdown",
   "metadata": {},
   "source": [
    "**Exercise 07:** Now use the code to write a function `beta0hat` that, given a data frame `df` with the same format as `full_data` returns the fitted intercept. Test that it gets the correct results, when given full_data as an argument."
   ]
  },
  {
   "cell_type": "code",
   "execution_count": 15,
   "metadata": {},
   "outputs": [
    {
     "data": {
      "text/plain": [
       "-0.7973333757451672"
      ]
     },
     "execution_count": 15,
     "metadata": {},
     "output_type": "execute_result"
    }
   ],
   "source": [
    "def beta0hat(dat):\n",
    "    model = smf.ols('LogSalary ~ Age', data=dat)\n",
    "    results = model.fit()\n",
    "    return(results.params['Intercept'])\n",
    "\n",
    "beta0hat(full_data)"
   ]
  },
  {
   "cell_type": "markdown",
   "metadata": {},
   "source": [
    "**Exercise 08:** \n",
    "- Write a function `bootstrap_df`, which is the same as `bootstrap`, but in which the estimator can take a DataFrame as an argument, and return a statistic (i.e., just like the function `beta0hat` does).\n",
    "- Write a function `salary_mean()` that returns the mean of the `Salary` column of a data frame, and use it to verify that `bootstrap_df` gives similar results to the ones you obtained above."
   ]
  },
  {
   "cell_type": "code",
   "execution_count": 16,
   "metadata": {},
   "outputs": [
    {
     "data": {
      "text/plain": [
       "(array([3.84540742, 4.66515542]), 0.2138717949634379)"
      ]
     },
     "execution_count": 16,
     "metadata": {},
     "output_type": "execute_result"
    }
   ],
   "source": [
    "def bootstrap_df(x, k=1000, estimator=np.mean, quantiles=[0.025, 0.975], plot=False):\n",
    "    n = len(x)\n",
    "    x_star_est = np.zeros(k)\n",
    "    for i in range(k):\n",
    "        x_star = x.sample(n, replace=True)\n",
    "        x_star_est[i] = estimator(x_star)\n",
    "        \n",
    "    if (plot):\n",
    "        plt.hist(x_star_est, 20)\n",
    "    return(np.quantile(x_star_est, quantiles), np.std(x_star_est))\n",
    "\n",
    "def salary_mean(dat):\n",
    "    return(dat['Salary'].mean())\n",
    "\n",
    "bootstrap_df(full_data, estimator=salary_mean)"
   ]
  },
  {
   "cell_type": "markdown",
   "metadata": {},
   "source": [
    "**Exercise 09:**\n",
    "Now apply the `bootstrap_df` function to get confidence intervals of the `Intercept` of the linear regression of `Age` on `LogSalary`."
   ]
  },
  {
   "cell_type": "code",
   "execution_count": 17,
   "metadata": {},
   "outputs": [
    {
     "data": {
      "text/plain": [
       "(array([-1.08333573, -0.5319953 ]), 0.1437336470266089)"
      ]
     },
     "execution_count": 17,
     "metadata": {},
     "output_type": "execute_result"
    }
   ],
   "source": [
    "bootstrap_df(full_data, estimator=beta0hat)"
   ]
  },
  {
   "cell_type": "markdown",
   "metadata": {},
   "source": [
    "**Discussion:** Does the confidence interval contain the value of estimated `Intercept`?"
   ]
  },
  {
   "cell_type": "markdown",
   "metadata": {},
   "source": [
    "**Exercise 10:** Create a function `beta1hat` that returns the fitted slope (`Age`) parameter. Apply `boodstrap_df` to it to return confidence interval and standard error in the estimator."
   ]
  },
  {
   "cell_type": "code",
   "execution_count": 18,
   "metadata": {},
   "outputs": [
    {
     "data": {
      "text/plain": [
       "(array([0.03323944, 0.05334911]), 0.005183671363440526)"
      ]
     },
     "execution_count": 18,
     "metadata": {},
     "output_type": "execute_result"
    }
   ],
   "source": [
    "def beta1hat(dat):\n",
    "    model = smf.ols('LogSalary ~ Age', data=dat)\n",
    "    results = model.fit()\n",
    "    return(results.params['Age'])\n",
    "\n",
    "bootstrap_df(full_data, estimator=beta1hat)"
   ]
  },
  {
   "cell_type": "markdown",
   "metadata": {},
   "source": [
    "# 3 Comparison of bootstrap and theoretical confidence interval"
   ]
  },
  {
   "cell_type": "markdown",
   "metadata": {},
   "source": [
    "In this example, we don't actually have to use the bootstrap to estimate the confidence intervals; statsmodels (and many other packages) can estimate the standard error of the sampling distribution of the estimator. Run the statsmodels fit again, but this time report all the output using the `summary`."
   ]
  },
  {
   "cell_type": "code",
   "execution_count": 19,
   "metadata": {},
   "outputs": [
    {
     "data": {
      "text/html": [
       "<table class=\"simpletable\">\n",
       "<caption>OLS Regression Results</caption>\n",
       "<tr>\n",
       "  <th>Dep. Variable:</th>        <td>LogSalary</td>    <th>  R-squared:         </th> <td>   0.094</td>\n",
       "</tr>\n",
       "<tr>\n",
       "  <th>Model:</th>                   <td>OLS</td>       <th>  Adj. R-squared:    </th> <td>   0.093</td>\n",
       "</tr>\n",
       "<tr>\n",
       "  <th>Method:</th>             <td>Least Squares</td>  <th>  F-statistic:       </th> <td>   51.14</td>\n",
       "</tr>\n",
       "<tr>\n",
       "  <th>Date:</th>             <td>Wed, 20 Jan 2021</td> <th>  Prob (F-statistic):</th> <td>3.15e-12</td>\n",
       "</tr>\n",
       "<tr>\n",
       "  <th>Time:</th>                 <td>23:45:01</td>     <th>  Log-Likelihood:    </th> <td> -407.87</td>\n",
       "</tr>\n",
       "<tr>\n",
       "  <th>No. Observations:</th>      <td>   492</td>      <th>  AIC:               </th> <td>   819.7</td>\n",
       "</tr>\n",
       "<tr>\n",
       "  <th>Df Residuals:</th>          <td>   490</td>      <th>  BIC:               </th> <td>   828.1</td>\n",
       "</tr>\n",
       "<tr>\n",
       "  <th>Df Model:</th>              <td>     1</td>      <th>                     </th>     <td> </td>   \n",
       "</tr>\n",
       "<tr>\n",
       "  <th>Covariance Type:</th>      <td>nonrobust</td>    <th>                     </th>     <td> </td>   \n",
       "</tr>\n",
       "</table>\n",
       "<table class=\"simpletable\">\n",
       "<tr>\n",
       "      <td></td>         <th>coef</th>     <th>std err</th>      <th>t</th>      <th>P>|t|</th>  <th>[0.025</th>    <th>0.975]</th>  \n",
       "</tr>\n",
       "<tr>\n",
       "  <th>Intercept</th> <td>   -0.7973</td> <td>    0.161</td> <td>   -4.965</td> <td> 0.000</td> <td>   -1.113</td> <td>   -0.482</td>\n",
       "</tr>\n",
       "<tr>\n",
       "  <th>Age</th>       <td>    0.0427</td> <td>    0.006</td> <td>    7.151</td> <td> 0.000</td> <td>    0.031</td> <td>    0.054</td>\n",
       "</tr>\n",
       "</table>\n",
       "<table class=\"simpletable\">\n",
       "<tr>\n",
       "  <th>Omnibus:</th>       <td>58.598</td> <th>  Durbin-Watson:     </th> <td>   0.147</td>\n",
       "</tr>\n",
       "<tr>\n",
       "  <th>Prob(Omnibus):</th> <td> 0.000</td> <th>  Jarque-Bera (JB):  </th> <td>  82.073</td>\n",
       "</tr>\n",
       "<tr>\n",
       "  <th>Skew:</th>          <td>-0.838</td> <th>  Prob(JB):          </th> <td>1.51e-18</td>\n",
       "</tr>\n",
       "<tr>\n",
       "  <th>Kurtosis:</th>      <td> 4.094</td> <th>  Cond. No.          </th> <td>    173.</td>\n",
       "</tr>\n",
       "</table><br/><br/>Notes:<br/>[1] Standard Errors assume that the covariance matrix of the errors is correctly specified."
      ],
      "text/plain": [
       "<class 'statsmodels.iolib.summary.Summary'>\n",
       "\"\"\"\n",
       "                            OLS Regression Results                            \n",
       "==============================================================================\n",
       "Dep. Variable:              LogSalary   R-squared:                       0.094\n",
       "Model:                            OLS   Adj. R-squared:                  0.093\n",
       "Method:                 Least Squares   F-statistic:                     51.14\n",
       "Date:                Wed, 20 Jan 2021   Prob (F-statistic):           3.15e-12\n",
       "Time:                        23:45:01   Log-Likelihood:                -407.87\n",
       "No. Observations:                 492   AIC:                             819.7\n",
       "Df Residuals:                     490   BIC:                             828.1\n",
       "Df Model:                           1                                         \n",
       "Covariance Type:            nonrobust                                         \n",
       "==============================================================================\n",
       "                 coef    std err          t      P>|t|      [0.025      0.975]\n",
       "------------------------------------------------------------------------------\n",
       "Intercept     -0.7973      0.161     -4.965      0.000      -1.113      -0.482\n",
       "Age            0.0427      0.006      7.151      0.000       0.031       0.054\n",
       "==============================================================================\n",
       "Omnibus:                       58.598   Durbin-Watson:                   0.147\n",
       "Prob(Omnibus):                  0.000   Jarque-Bera (JB):               82.073\n",
       "Skew:                          -0.838   Prob(JB):                     1.51e-18\n",
       "Kurtosis:                       4.094   Cond. No.                         173.\n",
       "==============================================================================\n",
       "\n",
       "Notes:\n",
       "[1] Standard Errors assume that the covariance matrix of the errors is correctly specified.\n",
       "\"\"\""
      ]
     },
     "execution_count": 19,
     "metadata": {},
     "output_type": "execute_result"
    }
   ],
   "source": [
    "## Maybe we should give this?\n",
    "model = smf.ols('LogSalary ~ Age', data=full_data)\n",
    "results = model.fit()\n",
    "results.summary()"
   ]
  },
  {
   "cell_type": "markdown",
   "metadata": {},
   "source": [
    "Look at the middle table of the results, containing the `Intercept` and `Age` variables. In semester 1 we learned how to interpret the `coeff` column. We should now be able to understand the `std err` and `[0.025` and `0.975]` columns. \n",
    "- `coeff`: best estimate of `Intercept` and `Age`\n",
    "- `std err`: the standard error of the estimators of `Intercept` and `Age`\n",
    "- `[0.025`: lower bound of the 95% confidence interval of the estimators of `Intercept` and `Age`\n",
    "- `0.025]`: upper bound of the 95% confidence interval of the estimators of `Intercept` and `Age`\n",
    "\n",
    "**Discussion**:\n",
    "- Are the standard errors reported here close to the bootstrap estimates? \n",
    "- Are the confidence intervals close to the bootstrap estimates?\n",
    "- Is the number 0 contained in either of the 95% confidence intervals?"
   ]
  },
  {
   "cell_type": "markdown",
   "metadata": {},
   "source": [
    "Your answer\n",
    "\n",
    "- Yes the standard errors are close\n",
    "- Yes the confidence intervals are close\n",
    "- No, the number 0 is not contained in either of the confidence intervals"
   ]
  },
  {
   "cell_type": "markdown",
   "metadata": {},
   "source": [
    "**Explanation:** The `t` column refers to the `t` statistic: \n",
    "\n",
    "$t = \\frac{\\hat\\theta - 0}{\\hat\\sigma_{\\hat\\theta}}$\n",
    "\n",
    "You can check that `t` does indeed equal the coefficient divided by the standard error.\n",
    "\n",
    "It has to do with a hypothesis test. The null and alternative hypotheses are:\n",
    "\n",
    "$H_0$: The true value of the parameter is equal to zero\n",
    "\n",
    "$H_\\mathrm{a}$: The parameter is equal to something else\n",
    "\n",
    "Due to the duality between confidence intervals and hypothesis testing, to test the null hypothesis we can consider the area in the tail of the sampling distribution beyond 0 to be the *p*-value. In the case of both the Age and the Salary, this *p*-value `P>|t|` is 0.  "
   ]
  },
  {
   "cell_type": "code",
   "execution_count": null,
   "metadata": {},
   "outputs": [],
   "source": []
  },
  {
   "cell_type": "code",
   "execution_count": null,
   "metadata": {},
   "outputs": [],
   "source": []
  }
 ],
 "metadata": {
  "kernelspec": {
   "display_name": "Python 3",
   "language": "python",
   "name": "python3"
  },
  "language_info": {
   "codemirror_mode": {
    "name": "ipython",
    "version": 3
   },
   "file_extension": ".py",
   "mimetype": "text/x-python",
   "name": "python",
   "nbconvert_exporter": "python",
   "pygments_lexer": "ipython3",
   "version": "3.8.1"
  }
 },
 "nbformat": 4,
 "nbformat_minor": 4
}
