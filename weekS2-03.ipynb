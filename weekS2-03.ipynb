{
 "cells": [
  {
   "cell_type": "markdown",
   "metadata": {},
   "source": [
    "# FDS Lab S2-03: Estimation of confidence intervals with the bootstrap\n",
    "\n",
    "**Learning outcomes:** In this lab you will use statistical simulations to undertake bootstrap estimation of confidence intervals. Along the way we will start to think about basic software engineering aspects of data science programming. By the end of this lab you should be able to:\n",
    "- code the bootstrap estimator for a number of estimators\n",
    "- validate statistical coding by comparing the output of functions with known results\n",
    "- interpret the output\n",
    "- compare the output with confidence intervals obtained by other methods\n",
    "- think about when it makes sense to take functions out of Notebooks\n",
    "We will go over simulations and randomness, from the topic on \"Estimation\"."
   ]
  },
  {
   "cell_type": "code",
   "execution_count": 1,
   "metadata": {},
   "outputs": [],
   "source": [
    "import numpy as np\n",
    "import pandas as pd\n",
    "import matplotlib\n",
    "%matplotlib inline\n",
    "import matplotlib.pyplot as plt\n",
    "import seaborn as sns\n",
    "import statsmodels.formula.api as smf"
   ]
  },
  {
   "cell_type": "markdown",
   "metadata": {},
   "source": [
    "# 1. Bootstrap - confidence intervals\n",
    "\n",
    "Confidence intervals give us an indication of how sure we can be that an estimate lies within particular bounds. More precisely, we can state with a specified degree of certainty the chance that the true parameter lies in the confidence interval. For example, a 95% confidence interval has a chance of 0.95 of containing the true value. There is a trade-off between width and certainty: we can increase the width of the interval to be more certain (e.g. 99% certain).\n",
    "\n",
    "We'll finish off what we started on the basketball data set in the previous lab. We had got to the point of generating the sample mean of samples of the age and salary. We'd now like to extend that code to generate confidence intervals for various statistics in the dataset. We'll give you the code to load the data:"
   ]
  },
  {
   "cell_type": "code",
   "execution_count": 2,
   "metadata": {},
   "outputs": [
    {
     "data": {
      "text/html": [
       "<div>\n",
       "<style scoped>\n",
       "    .dataframe tbody tr th:only-of-type {\n",
       "        vertical-align: middle;\n",
       "    }\n",
       "\n",
       "    .dataframe tbody tr th {\n",
       "        vertical-align: top;\n",
       "    }\n",
       "\n",
       "    .dataframe thead th {\n",
       "        text-align: right;\n",
       "    }\n",
       "</style>\n",
       "<table border=\"1\" class=\"dataframe\">\n",
       "  <thead>\n",
       "    <tr style=\"text-align: right;\">\n",
       "      <th></th>\n",
       "      <th>PlayerName</th>\n",
       "      <th>Salary</th>\n",
       "    </tr>\n",
       "  </thead>\n",
       "  <tbody>\n",
       "    <tr>\n",
       "      <th>0</th>\n",
       "      <td>Kobe Bryant</td>\n",
       "      <td>23500000</td>\n",
       "    </tr>\n",
       "    <tr>\n",
       "      <th>1</th>\n",
       "      <td>Amar'e Stoudemire</td>\n",
       "      <td>23410988</td>\n",
       "    </tr>\n",
       "    <tr>\n",
       "      <th>2</th>\n",
       "      <td>Joe Johnson</td>\n",
       "      <td>23180790</td>\n",
       "    </tr>\n",
       "    <tr>\n",
       "      <th>3</th>\n",
       "      <td>Carmelo Anthony</td>\n",
       "      <td>22458401</td>\n",
       "    </tr>\n",
       "    <tr>\n",
       "      <th>4</th>\n",
       "      <td>Dwight Howard</td>\n",
       "      <td>21436271</td>\n",
       "    </tr>\n",
       "  </tbody>\n",
       "</table>\n",
       "</div>"
      ],
      "text/plain": [
       "          PlayerName    Salary\n",
       "0        Kobe Bryant  23500000\n",
       "1  Amar'e Stoudemire  23410988\n",
       "2        Joe Johnson  23180790\n",
       "3    Carmelo Anthony  22458401\n",
       "4      Dwight Howard  21436271"
      ]
     },
     "execution_count": 2,
     "metadata": {},
     "output_type": "execute_result"
    }
   ],
   "source": [
    "player_data = pd.read_csv(\"datasets/player_data.csv\")\n",
    "salary_data = pd.read_csv(\"datasets/salary_data.csv\")\n",
    "full_data = pd.merge(salary_data, player_data,\n",
    "                     left_on=\"PlayerName\", right_on=\"Name\")\n",
    "full_data['Salary']=full_data['Salary']/1000000\n",
    "salary_data.head()"
   ]
  },
  {
   "cell_type": "markdown",
   "metadata": {},
   "source": [
    "**Exercise 01:** Using the code from last week, and the information in the lecture notes, write a bootstrap estimation routine with $k=1000$ replications to:\n",
    "1. plot the sampling distribution of the mean.\n",
    "2. find a 95% confidence interval for the mean of the salary data."
   ]
  },
  {
   "cell_type": "code",
   "execution_count": 3,
   "metadata": {},
   "outputs": [
    {
     "name": "stdout",
     "output_type": "stream",
     "text": [
      "Confidence interval\n",
      "0.025    3.859929\n",
      "0.975    4.704842\n",
      "dtype: float64\n"
     ]
    },
    {
     "data": {
      "image/png": "[encoded data removed]",
      "text/plain": [
       "<Figure size 432x288 with 1 Axes>"
      ]
     },
     "metadata": {
      "needs_background": "light"
     },
     "output_type": "display_data"
    }
   ],
   "source": [
    "# Your code\n",
    "salaries = full_data['Salary']\n",
    "k = 10000\n",
    "n = len(salary_data)\n",
    "\n",
    "x_star_tilde = np.zeros(k)\n",
    "for i in range(k):\n",
    "    x_star = salaries.sample(n, replace=True)\n",
    "    x_star_tilde[i] = x_star.mean()\n",
    "    \n",
    "    \n",
    "plt.hist(x_star_tilde, 20)\n",
    "print(\"Confidence interval\")\n",
    "print(pd.Series(x_star_tilde).quantile([0.025, 0.975]))"
   ]
  },
  {
   "cell_type": "markdown",
   "metadata": {},
   "source": [
    "## Engineering a bootstrap function"
   ]
  },
  {
   "cell_type": "markdown",
   "metadata": {},
   "source": [
    "Later on in the lab, we are going to apply the bootstrap to a different estimator, and also run it repeatedly. We'd therefore like to turn it into a function.\n",
    "\n",
    "**Exercise 02:** Write a function called bootstrap(), which takes as its input arguments:\n",
    "1. `x`: pd.Series()\n",
    "3. `estimator`: The function (e.g. `np.mean`) that you would like to get the bootstrap confidence intervals for. Note that you can pass functions as arguments to python functions.\n",
    "4. `quantiles`: An array containing the desired quantiles\n",
    "5. `plot`: Boolean indicating if a plot of the bootstrap distribution of the estimator should be shown. `False` by default.\n",
    " \n",
    "It should return:\n",
    "1. the quantiles\n",
    "2. the bootstrap standard deviation"
   ]
  },
  {
   "cell_type": "code",
   "execution_count": 4,
   "metadata": {},
   "outputs": [
    {
     "name": "stdout",
     "output_type": "stream",
     "text": [
      "0.2148217429390935\n"
     ]
    },
    {
     "data": {
      "image/png": "[encoded data removed]",
      "text/plain": [
       "<Figure size 432x288 with 1 Axes>"
      ]
     },
     "metadata": {
      "needs_background": "light"
     },
     "output_type": "display_data"
    }
   ],
   "source": [
    "def bootstrap(x, k=1000, estimator=np.mean, quantiles=[0.025, 0.975], plot=False):\n",
    "    n = len(x)\n",
    "    x_star_est = np.zeros(k)\n",
    "    for i in range(k):\n",
    "        x_star = np.random.choice(x, n, replace=True)\n",
    "        x_star_est[i] = estimator(x_star)\n",
    "        \n",
    "    if (plot):\n",
    "        plt.hist(x_star_est, 20)\n",
    "    return(np.quantile(x_star_est, quantiles), np.std(x_star_est))\n",
    "\n",
    "ci, std = bootstrap(salaries, plot=True)\n",
    "print(std)"
   ]
  },
  {
   "cell_type": "markdown",
   "metadata": {},
   "source": [
    "## Testing the function"
   ]
  },
  {
   "cell_type": "markdown",
   "metadata": {},
   "source": [
    "When you want to deploy code you should always check that each function actually does what it is supposed to do. A good habit is to do what is called *unit testing* -  a method by which units of the code are checked for correctness. These are typically short code snippets that check automatically that the output of a function is as intended. In our setting, however, this would be an overkill, and we can just check manually whether our function has the correct output on a known setting. In this, artificial, case we know the distribution, so we can estimate the SEM as $\\sigma_{\\overline{X}} = \\sigma/\\sqrt{n}$ . \n",
    "\n",
    "**Exercise 03:** \n",
    "- Compare the SEM computed from the full distribution with the bootstrap estimates.\n",
    "- Are they of a similar size? If so, good - if not, go back and check the bootstrap function.\n",
    "- Compare the quantiles produced by the function with the distribution produced with `plot=True`. Do the quantiles lie in the distribution?"
   ]
  },
  {
   "cell_type": "code",
   "execution_count": 5,
   "metadata": {},
   "outputs": [
    {
     "name": "stdout",
     "output_type": "stream",
     "text": [
      "0.2149839356734121 0.21890697112026414 [3.82800586 4.70384815]\n"
     ]
    },
    {
     "data": {
      "image/png": "[encoded data removed]",
      "text/plain": [
       "<Figure size 432x288 with 1 Axes>"
      ]
     },
     "metadata": {
      "needs_background": "light"
     },
     "output_type": "display_data"
    }
   ],
   "source": [
    "SEM = np.std(salaries)/np.sqrt(len(salaries))\n",
    "ci, std = bootstrap(salaries, plot=True)\n",
    "print(SEM, std, ci)"
   ]
  },
  {
   "cell_type": "markdown",
   "metadata": {},
   "source": [
    "Your answer:\n",
    "    \n",
    "The SEM of the distribution and the estimated SEM computed from the bootstrap estimator are similar. The quantiles look about right too, compared to the distribution."
   ]
  },
  {
   "cell_type": "markdown",
   "metadata": {},
   "source": [
    "## Apply the bootstrap function to the median"
   ]
  },
  {
   "cell_type": "markdown",
   "metadata": {},
   "source": [
    "The bootstrap is very flexible - here we use it to find confidence intervals for the median, rather than the mean.\n",
    "\n",
    "**Exercise 04:** Apply your new bootstrap function to the confidence intervals of the median of the salaries, plotting the distribution."
   ]
  },
  {
   "cell_type": "code",
   "execution_count": 6,
   "metadata": {},
   "outputs": [
    {
     "data": {
      "text/plain": [
       "(array([2.01155844, 2.87375   ]), 0.2366219274038143)"
      ]
     },
     "execution_count": 6,
     "metadata": {},
     "output_type": "execute_result"
    },
    {
     "data": {
      "image/png": "[encoded data removed]",
      "text/plain": [
       "<Figure size 432x288 with 1 Axes>"
      ]
     },
     "metadata": {
      "needs_background": "light"
     },
     "output_type": "display_data"
    }
   ],
   "source": [
    "bootstrap(salaries, 1000, estimator=np.median, plot=True)"
   ]
  },
  {
   "cell_type": "markdown",
   "metadata": {},
   "source": [
    "**Discussion:** Does the distribution of the sample median look as you would expect it to? If not, what is unusual about it? Can you explain why you're seeing this?"
   ]
  },
  {
   "cell_type": "markdown",
   "metadata": {},
   "source": [
    "Your answer:\n",
    "    \n",
    "The bootstrap distribution does not look as I expected it to. It looks bumpy. This is probably because there are some very common exact amounts of salaries, meaning the median gets stuck there."
   ]
  },
  {
   "cell_type": "markdown",
   "metadata": {},
   "source": [
    "## Comparing the confidence interval to the theoretical value"
   ]
  },
  {
   "cell_type": "markdown",
   "metadata": {},
   "source": [
    "**Exercise 05:** Use the theoretical method of determining the confidence interval, assuming a normal distribution of mean."
   ]
  },
  {
   "cell_type": "code",
   "execution_count": 7,
   "metadata": {},
   "outputs": [],
   "source": [
    "# DCS TODO\n"
   ]
  },
  {
   "cell_type": "markdown",
   "metadata": {},
   "source": [
    "# 2. Bootstrap applied to linear regression -  output from other packages"
   ]
  },
  {
   "cell_type": "markdown",
   "metadata": {},
   "source": [
    "As we've said in the lectures, we can apply the bootstrap estimator to many different types of statistic, where by \"statistic\" we mean a value derived from the data. Linear regression coefficients also count as statistics - so we should be able to used the bootstrap on them.\n",
    " \n",
    " **Exercise 06:** \n",
    " - Create a new column of `full_data` called `LogSalary`, which is the log to the base 10 of `Salary`.\n",
    " - Plot the `LogSalary` against the `Age`.\n",
    " - Fit a linear regression of the `LogSalary` to the `Age` using `statsmodels`. (See the linear regression lab).\n",
    " - Extract the best fitting `Intercept` parameter and slope parameter (called `Age`) from the result. Hint: use the `params` member variable."
   ]
  },
  {
   "cell_type": "code",
   "execution_count": 8,
   "metadata": {},
   "outputs": [
    {
     "data": {
      "text/plain": [
       "<seaborn.axisgrid.PairGrid at 0x7f37206e49a0>"
      ]
     },
     "execution_count": 8,
     "metadata": {},
     "output_type": "execute_result"
    },
    {
     "data": {
      "image/png": "[encoded data removed]",
      "text/plain": [
       "<Figure size 360x360 with 6 Axes>"
      ]
     },
     "metadata": {
      "needs_background": "light"
     },
     "output_type": "display_data"
    }
   ],
   "source": [
    "full_data['LogSalary'] = np.log10(full_data['Salary'])\n",
    "sns.pairplot(full_data, vars=['Age', 'LogSalary'])"
   ]
  },
  {
   "cell_type": "code",
   "execution_count": 9,
   "metadata": {},
   "outputs": [
    {
     "data": {
      "text/plain": [
       "Intercept   -0.797333\n",
       "Age          0.042749\n",
       "dtype: float64"
      ]
     },
     "execution_count": 9,
     "metadata": {},
     "output_type": "execute_result"
    }
   ],
   "source": [
    "model = smf.ols('LogSalary ~ Age', data=full_data)\n",
    "results = model.fit()\n",
    "results.params"
   ]
  },
  {
   "cell_type": "markdown",
   "metadata": {},
   "source": [
    "**Exercise 07:** Now use the code to:\n",
    "\n",
    "1. Write a function `beta0hat` that, given a data frame `df` with the same format as `full_data` returns the fitted intercept. Test that it gets the correct results, when given full_data as an argument. \n",
    "2. Write a function `beta1hat` that returns the fitted slope (`Age`) parameter. Apply `boodstrap_df` to it to return confidence interval and standard error in the estimator."
   ]
  },
  {
   "cell_type": "code",
   "execution_count": 10,
   "metadata": {},
   "outputs": [
    {
     "data": {
      "text/plain": [
       "-0.7973333757451672"
      ]
     },
     "execution_count": 10,
     "metadata": {},
     "output_type": "execute_result"
    }
   ],
   "source": [
    "def beta0hat(df):\n",
    "    model = smf.ols('LogSalary ~ Age', data=df)\n",
    "    results = model.fit()\n",
    "    return(results.params['Intercept'])\n",
    "\n",
    "def beta1hat(df):\n",
    "    model = smf.ols('LogSalary ~ Age', data=df)\n",
    "    results = model.fit()\n",
    "    return(results.params['Age'])\n",
    "\n",
    "beta0hat(full_data)"
   ]
  },
  {
   "cell_type": "markdown",
   "metadata": {},
   "source": [
    "**Exercise 08:** \n",
    "- Write a function `bootstrap_df`, which is the same as `bootstrap`, but in which the estimator can take a DataFrame as an argument, and return a statistic (i.e., just like the function `beta0hat` does).\n",
    "- Write a function `salary_mean()` that returns the mean of the `Salary` column of a data frame, and use it to verify that `bootstrap_df` gives similar results to the ones you obtained above."
   ]
  },
  {
   "cell_type": "code",
   "execution_count": 18,
   "metadata": {},
   "outputs": [
    {
     "data": {
      "text/plain": [
       "(array([3.843389  , 4.70095139]), 0.219266205875702)"
      ]
     },
     "execution_count": 18,
     "metadata": {},
     "output_type": "execute_result"
    }
   ],
   "source": [
    "def bootstrap_df(df, k=1000, estimator=beta0hat, quantiles=[0.025, 0.975], plot=False):\n",
    "    n = len(df)\n",
    "    x_star_est = np.zeros(k)\n",
    "    for i in range(k):\n",
    "        x_star = df.sample(n, replace=True)\n",
    "        x_star_est[i] = estimator(x_star)\n",
    "        \n",
    "    if (plot):\n",
    "        plt.hist(x_star_est, 20)\n",
    "    return(np.quantile(x_star_est, quantiles), np.std(x_star_est))\n",
    "\n",
    "def salary_mean(df):\n",
    "    return(df['Salary'].mean())\n",
    "\n",
    "bootstrap_df(full_data, estimator=salary_mean)"
   ]
  },
  {
   "cell_type": "code",
   "execution_count": 22,
   "metadata": {},
   "outputs": [
    {
     "ename": "TypeError",
     "evalue": "object of type 'numpy.float64' has no len()",
     "output_type": "error",
     "traceback": [
      "\u001b[0;31m---------------------------------------------------------------------------\u001b[0m",
      "\u001b[0;31mTypeError\u001b[0m                                 Traceback (most recent call last)",
      "\u001b[0;32m<ipython-input-22-9925f44dc1fc>\u001b[0m in \u001b[0;36m<module>\u001b[0;34m\u001b[0m\n\u001b[1;32m     22\u001b[0m     \u001b[0;32mreturn\u001b[0m\u001b[0;34m(\u001b[0m\u001b[0mcis\u001b[0m\u001b[0;34m,\u001b[0m \u001b[0mstds\u001b[0m\u001b[0;34m)\u001b[0m\u001b[0;34m\u001b[0m\u001b[0;34m\u001b[0m\u001b[0m\n\u001b[1;32m     23\u001b[0m \u001b[0;34m\u001b[0m\u001b[0m\n\u001b[0;32m---> 24\u001b[0;31m \u001b[0mbootstrap_df2\u001b[0m\u001b[0;34m(\u001b[0m\u001b[0mfull_data\u001b[0m\u001b[0;34m,\u001b[0m \u001b[0mestimator\u001b[0m\u001b[0;34m=\u001b[0m\u001b[0msalary_mean\u001b[0m\u001b[0;34m)\u001b[0m\u001b[0;34m\u001b[0m\u001b[0;34m\u001b[0m\u001b[0m\n\u001b[0m",
      "\u001b[0;32m<ipython-input-22-9925f44dc1fc>\u001b[0m in \u001b[0;36mbootstrap_df2\u001b[0;34m(df, k, estimator, quantiles, plot)\u001b[0m\n\u001b[1;32m      2\u001b[0m     \u001b[0mn\u001b[0m \u001b[0;34m=\u001b[0m \u001b[0mlen\u001b[0m\u001b[0;34m(\u001b[0m\u001b[0mdf\u001b[0m\u001b[0;34m)\u001b[0m\u001b[0;34m\u001b[0m\u001b[0;34m\u001b[0m\u001b[0m\n\u001b[1;32m      3\u001b[0m     \u001b[0mx_star\u001b[0m \u001b[0;34m=\u001b[0m \u001b[0mestimator\u001b[0m\u001b[0;34m(\u001b[0m\u001b[0mdf\u001b[0m\u001b[0;34m)\u001b[0m\u001b[0;34m\u001b[0m\u001b[0;34m\u001b[0m\u001b[0m\n\u001b[0;32m----> 4\u001b[0;31m     \u001b[0mm\u001b[0m \u001b[0;34m=\u001b[0m  \u001b[0mlen\u001b[0m\u001b[0;34m(\u001b[0m\u001b[0mx_star\u001b[0m\u001b[0;34m)\u001b[0m \u001b[0;31m# Number of estimators returned\u001b[0m\u001b[0;34m\u001b[0m\u001b[0;34m\u001b[0m\u001b[0m\n\u001b[0m\u001b[1;32m      5\u001b[0m     \u001b[0mx_star_est\u001b[0m \u001b[0;34m=\u001b[0m \u001b[0mnp\u001b[0m\u001b[0;34m.\u001b[0m\u001b[0mzeros\u001b[0m\u001b[0;34m(\u001b[0m\u001b[0;34m(\u001b[0m\u001b[0mk\u001b[0m\u001b[0;34m,\u001b[0m \u001b[0mm\u001b[0m\u001b[0;34m)\u001b[0m\u001b[0;34m)\u001b[0m\u001b[0;34m\u001b[0m\u001b[0;34m\u001b[0m\u001b[0m\n\u001b[1;32m      6\u001b[0m     \u001b[0;32mfor\u001b[0m \u001b[0mi\u001b[0m \u001b[0;32min\u001b[0m \u001b[0mrange\u001b[0m\u001b[0;34m(\u001b[0m\u001b[0mk\u001b[0m\u001b[0;34m)\u001b[0m\u001b[0;34m:\u001b[0m\u001b[0;34m\u001b[0m\u001b[0;34m\u001b[0m\u001b[0m\n",
      "\u001b[0;31mTypeError\u001b[0m: object of type 'numpy.float64' has no len()"
     ]
    }
   ],
   "source": [
    "def bootstrap_df2(df, k=1000, estimator=beta0hat, quantiles=[0.025, 0.975], plot=False):\n",
    "    n = len(df)\n",
    "    x_star = estimator(df)\n",
    "    m =  len(x_star) # Number of estimators returned\n",
    "    x_star_est = np.zeros((k, m))\n",
    "    for i in range(k):\n",
    "        x_star = df.sample(n, replace=True)\n",
    "        x_star_est[i,:] = estimator(x_star)\n",
    "        \n",
    "    if (plot):\n",
    "        for i in range(m):\n",
    "            plt.subplot(1, m, i)\n",
    "            plt.hist(x_star_est[:,i], 20)\n",
    "    \n",
    "    cis = np.zeros(m)\n",
    "    stds = np.zeros(m)\n",
    "\n",
    "    for i in range(m):\n",
    "        cis[i] = np.quantile(x_star_est, quantiles)\n",
    "        stds[i] = np.std(x_star_est)\n",
    "                        \n",
    "    return(cis, stds)\n",
    "\n",
    "bootstrap_df2(full_data, estimator=salary_mean)"
   ]
  },
  {
   "cell_type": "markdown",
   "metadata": {},
   "source": [
    "**Exercise 09:**\n",
    "Now apply the `bootstrap_df` function to get confidence intervals of\n",
    "1. The `Intercept` coefficient $\\hat\\beta_0$ of the linear regression of `Age` on `LogSalary`.\n",
    "2. The slope coefficient $\\hat\\beta_1$ of the linear regression of `Age` on `LogSalary`.\n",
    "3. bootstrap_df(full_data, estimator=salary_mean)"
   ]
  },
  {
   "cell_type": "code",
   "execution_count": 12,
   "metadata": {},
   "outputs": [
    {
     "name": "stdout",
     "output_type": "stream",
     "text": [
      "(array([-1.08564742, -0.53153631]), 0.14460069849200205)\n",
      "(array([0.03275272, 0.0539122 ]), 0.005326824890406666)\n"
     ]
    }
   ],
   "source": [
    "beta0_est = bootstrap_df(full_data, estimator=beta0hat)\n",
    "beta1_est = bootstrap_df(full_data, estimator=beta1hat)\n",
    "print(beta0_est)\n",
    "print(beta1_est)"
   ]
  },
  {
   "cell_type": "markdown",
   "metadata": {},
   "source": [
    "# 3 Comparison of bootstrap and theoretical confidence interval"
   ]
  },
  {
   "cell_type": "markdown",
   "metadata": {},
   "source": [
    "In this example, we don't actually have to use the bootstrap to estimate the confidence intervals; statsmodels (and many other packages) can estimate the standard error of the sampling distribution of the estimator. Run the statsmodels fit again, but this time report all the output using the `summary`."
   ]
  },
  {
   "cell_type": "code",
   "execution_count": 23,
   "metadata": {},
   "outputs": [
    {
     "data": {
      "text/html": [
       "<table class=\"simpletable\">\n",
       "<caption>OLS Regression Results</caption>\n",
       "<tr>\n",
       "  <th>Dep. Variable:</th>        <td>LogSalary</td>    <th>  R-squared:         </th> <td>   0.094</td>\n",
       "</tr>\n",
       "<tr>\n",
       "  <th>Model:</th>                   <td>OLS</td>       <th>  Adj. R-squared:    </th> <td>   0.093</td>\n",
       "</tr>\n",
       "<tr>\n",
       "  <th>Method:</th>             <td>Least Squares</td>  <th>  F-statistic:       </th> <td>   51.14</td>\n",
       "</tr>\n",
       "<tr>\n",
       "  <th>Date:</th>             <td>Fri, 22 Jan 2021</td> <th>  Prob (F-statistic):</th> <td>3.15e-12</td>\n",
       "</tr>\n",
       "<tr>\n",
       "  <th>Time:</th>                 <td>16:24:29</td>     <th>  Log-Likelihood:    </th> <td> -407.87</td>\n",
       "</tr>\n",
       "<tr>\n",
       "  <th>No. Observations:</th>      <td>   492</td>      <th>  AIC:               </th> <td>   819.7</td>\n",
       "</tr>\n",
       "<tr>\n",
       "  <th>Df Residuals:</th>          <td>   490</td>      <th>  BIC:               </th> <td>   828.1</td>\n",
       "</tr>\n",
       "<tr>\n",
       "  <th>Df Model:</th>              <td>     1</td>      <th>                     </th>     <td> </td>   \n",
       "</tr>\n",
       "<tr>\n",
       "  <th>Covariance Type:</th>      <td>nonrobust</td>    <th>                     </th>     <td> </td>   \n",
       "</tr>\n",
       "</table>\n",
       "<table class=\"simpletable\">\n",
       "<tr>\n",
       "      <td></td>         <th>coef</th>     <th>std err</th>      <th>t</th>      <th>P>|t|</th>  <th>[0.025</th>    <th>0.975]</th>  \n",
       "</tr>\n",
       "<tr>\n",
       "  <th>Intercept</th> <td>   -0.7973</td> <td>    0.161</td> <td>   -4.965</td> <td> 0.000</td> <td>   -1.113</td> <td>   -0.482</td>\n",
       "</tr>\n",
       "<tr>\n",
       "  <th>Age</th>       <td>    0.0427</td> <td>    0.006</td> <td>    7.151</td> <td> 0.000</td> <td>    0.031</td> <td>    0.054</td>\n",
       "</tr>\n",
       "</table>\n",
       "<table class=\"simpletable\">\n",
       "<tr>\n",
       "  <th>Omnibus:</th>       <td>58.598</td> <th>  Durbin-Watson:     </th> <td>   0.147</td>\n",
       "</tr>\n",
       "<tr>\n",
       "  <th>Prob(Omnibus):</th> <td> 0.000</td> <th>  Jarque-Bera (JB):  </th> <td>  82.073</td>\n",
       "</tr>\n",
       "<tr>\n",
       "  <th>Skew:</th>          <td>-0.838</td> <th>  Prob(JB):          </th> <td>1.51e-18</td>\n",
       "</tr>\n",
       "<tr>\n",
       "  <th>Kurtosis:</th>      <td> 4.094</td> <th>  Cond. No.          </th> <td>    173.</td>\n",
       "</tr>\n",
       "</table><br/><br/>Notes:<br/>[1] Standard Errors assume that the covariance matrix of the errors is correctly specified."
      ],
      "text/plain": [
       "<class 'statsmodels.iolib.summary.Summary'>\n",
       "\"\"\"\n",
       "                            OLS Regression Results                            \n",
       "==============================================================================\n",
       "Dep. Variable:              LogSalary   R-squared:                       0.094\n",
       "Model:                            OLS   Adj. R-squared:                  0.093\n",
       "Method:                 Least Squares   F-statistic:                     51.14\n",
       "Date:                Fri, 22 Jan 2021   Prob (F-statistic):           3.15e-12\n",
       "Time:                        16:24:29   Log-Likelihood:                -407.87\n",
       "No. Observations:                 492   AIC:                             819.7\n",
       "Df Residuals:                     490   BIC:                             828.1\n",
       "Df Model:                           1                                         \n",
       "Covariance Type:            nonrobust                                         \n",
       "==============================================================================\n",
       "                 coef    std err          t      P>|t|      [0.025      0.975]\n",
       "------------------------------------------------------------------------------\n",
       "Intercept     -0.7973      0.161     -4.965      0.000      -1.113      -0.482\n",
       "Age            0.0427      0.006      7.151      0.000       0.031       0.054\n",
       "==============================================================================\n",
       "Omnibus:                       58.598   Durbin-Watson:                   0.147\n",
       "Prob(Omnibus):                  0.000   Jarque-Bera (JB):               82.073\n",
       "Skew:                          -0.838   Prob(JB):                     1.51e-18\n",
       "Kurtosis:                       4.094   Cond. No.                         173.\n",
       "==============================================================================\n",
       "\n",
       "Notes:\n",
       "[1] Standard Errors assume that the covariance matrix of the errors is correctly specified.\n",
       "\"\"\""
      ]
     },
     "execution_count": 23,
     "metadata": {},
     "output_type": "execute_result"
    }
   ],
   "source": [
    "model = smf.ols('LogSalary ~ Age', data=full_data)\n",
    "results = model.fit()\n",
    "results.summary()"
   ]
  },
  {
   "cell_type": "markdown",
   "metadata": {},
   "source": [
    "Look at the middle table of the results, containing the `Intercept` and `Age` variables. In semester 1 we learned how to interpret the `coeff` column. We should now be able to understand the `std err` and `[0.025` and `0.975]` columns. \n",
    "- `coeff`: best estimate of `Intercept` and `Age`\n",
    "- `std err`: the standard error of the estimators of `Intercept` and `Age`\n",
    "- `[0.025`: lower bound of the 95% confidence interval of the estimators of `Intercept` and `Age`\n",
    "- `0.025]`: upper bound of the 95% confidence interval of the estimators of `Intercept` and `Age`\n",
    "\n",
    "**Discussion**:\n",
    "- Are the standard errors reported here close to the bootstrap estimates? \n",
    "- Are the confidence intervals close to the bootstrap estimates?"
   ]
  },
  {
   "cell_type": "markdown",
   "metadata": {},
   "source": [
    "Your answer\n",
    "\n",
    "- Yes the standard errors are close\n",
    "- Yes the confidence intervals are close"
   ]
  },
  {
   "cell_type": "markdown",
   "metadata": {},
   "source": [
    "**Explanation:** You should find that the confidence intervals are close to the bootstrap estimates. If not, check your bootstrap code again!\n",
    "\n",
    "We can now explain the `P>|t|` column. The `t` column refers to the `t` statistic: \n",
    "\n",
    "$t = \\frac{\\hat\\theta - 0}{\\hat\\sigma_{\\hat\\theta}}$\n",
    "\n",
    "It is a measure of the distance of the fitted parameter from 0. You can check that `t` does indeed equal the coefficient divided by the standard error.\n",
    "\n",
    "It has to do with a hypothesis test. The null and alternative hypotheses are:\n",
    "\n",
    "$H_0$: The true value of the parameter is equal to zero\n",
    "\n",
    "$H_\\mathrm{a}$: The parameter is equal to something else\n",
    "\n",
    "Due to the duality between confidence intervals and hypothesis testing, to test the null hypothesis we can consider the area in the tail of the sampling distribution beyond 0 to be the *p*-value. In the case of both the Age and the Salary, this *p*-value `P>|t|` is 0.  \n",
    "\n",
    "**Discussion:** Is the null hypothesis rejected or not? Does this make sense when you compare the confidence intervals to 0?"
   ]
  },
  {
   "cell_type": "markdown",
   "metadata": {},
   "source": [
    "Your answer\n",
    "\n",
    "- The null hypothesis is rejected at p=0. You should find that the number 0 is not contained in either of the confidence intervals. "
   ]
  },
  {
   "cell_type": "code",
   "execution_count": null,
   "metadata": {},
   "outputs": [],
   "source": []
  }
 ],
 "metadata": {
  "kernelspec": {
   "display_name": "Python 3",
   "language": "python",
   "name": "python3"
  },
  "language_info": {
   "codemirror_mode": {
    "name": "ipython",
    "version": 3
   },
   "file_extension": ".py",
   "mimetype": "text/x-python",
   "name": "python",
   "nbconvert_exporter": "python",
   "pygments_lexer": "ipython3",
   "version": "3.8.1"
  }
 },
 "nbformat": 4,
 "nbformat_minor": 4
}
